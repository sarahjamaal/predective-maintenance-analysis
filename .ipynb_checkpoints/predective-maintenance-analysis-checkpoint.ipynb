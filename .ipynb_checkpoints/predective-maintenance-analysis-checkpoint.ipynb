{
 "cells": [
  {
   "cell_type": "code",
   "execution_count": 1,
   "metadata": {
    "_cell_guid": "b1076dfc-b9ad-4769-8c92-a6c4dae69d19",
    "_uuid": "8f2839f25d086af736a60e9eeb907d3b93b6e0e5"
   },
   "outputs": [],
   "source": [
    "import numpy as np \n",
    "import pandas as pd \n",
    "import matplotlib.pyplot as plt\n",
    "import seaborn as sns\n",
    "import os"
   ]
  },
  {
   "cell_type": "code",
   "execution_count": 2,
   "metadata": {},
   "outputs": [
    {
     "data": {
      "text/html": [
       "        <script type=\"text/javascript\">\n",
       "        window.PlotlyConfig = {MathJaxConfig: 'local'};\n",
       "        if (window.MathJax) {MathJax.Hub.Config({SVG: {font: \"STIX-Web\"}});}\n",
       "        if (typeof require !== 'undefined') {\n",
       "        require.undef(\"plotly\");\n",
       "        requirejs.config({\n",
       "            paths: {\n",
       "                'plotly': ['https://cdn.plot.ly/plotly-latest.min']\n",
       "            }\n",
       "        });\n",
       "        require(['plotly'], function(Plotly) {\n",
       "            window._Plotly = Plotly;\n",
       "        });\n",
       "        }\n",
       "        </script>\n",
       "        "
      ]
     },
     "metadata": {},
     "output_type": "display_data"
    },
    {
     "data": {
      "text/html": [
       "        <script type=\"text/javascript\">\n",
       "        window.PlotlyConfig = {MathJaxConfig: 'local'};\n",
       "        if (window.MathJax) {MathJax.Hub.Config({SVG: {font: \"STIX-Web\"}});}\n",
       "        if (typeof require !== 'undefined') {\n",
       "        require.undef(\"plotly\");\n",
       "        requirejs.config({\n",
       "            paths: {\n",
       "                'plotly': ['https://cdn.plot.ly/plotly-latest.min']\n",
       "            }\n",
       "        });\n",
       "        require(['plotly'], function(Plotly) {\n",
       "            window._Plotly = Plotly;\n",
       "        });\n",
       "        }\n",
       "        </script>\n",
       "        "
      ]
     },
     "metadata": {},
     "output_type": "display_data"
    }
   ],
   "source": [
    "import plotly.offline as py\n",
    "py.init_notebook_mode(connected=True)\n",
    "from plotly.offline import init_notebook_mode, iplot\n",
    "init_notebook_mode(connected=True)\n",
    "import plotly.graph_objs as go\n",
    "import plotly.offline as offline\n",
    "import warnings\n",
    "warnings.filterwarnings('ignore')\n"
   ]
  },
  {
   "cell_type": "code",
   "execution_count": 3,
   "metadata": {
    "_cell_guid": "79c7e3d0-c299-4dcb-8224-4455121ee9b0",
    "_uuid": "d629ff2d2480ee46fbb7e2d37f6b5fab8052498a"
   },
   "outputs": [],
   "source": [
    "train =pd.read_csv('train_label.csv')"
   ]
  },
  {
   "cell_type": "code",
   "execution_count": 5,
   "metadata": {
    "_uuid": "417d47cc1f030a9518ea681d8bf2bfbfe3d5a7d7"
   },
   "outputs": [
    {
     "data": {
      "text/html": [
       "<div>\n",
       "<style scoped>\n",
       "    .dataframe tbody tr th:only-of-type {\n",
       "        vertical-align: middle;\n",
       "    }\n",
       "\n",
       "    .dataframe tbody tr th {\n",
       "        vertical-align: top;\n",
       "    }\n",
       "\n",
       "    .dataframe thead th {\n",
       "        text-align: right;\n",
       "    }\n",
       "</style>\n",
       "<table border=\"1\" class=\"dataframe\">\n",
       "  <thead>\n",
       "    <tr style=\"text-align: right;\">\n",
       "      <th></th>\n",
       "      <th>date</th>\n",
       "      <th>label</th>\n",
       "    </tr>\n",
       "  </thead>\n",
       "  <tbody>\n",
       "    <tr>\n",
       "      <th>0</th>\n",
       "      <td>3/5/2015</td>\n",
       "      <td>NaN</td>\n",
       "    </tr>\n",
       "    <tr>\n",
       "      <th>1</th>\n",
       "      <td>4/5/2015</td>\n",
       "      <td>0.0</td>\n",
       "    </tr>\n",
       "    <tr>\n",
       "      <th>2</th>\n",
       "      <td>5/5/2015</td>\n",
       "      <td>0.0</td>\n",
       "    </tr>\n",
       "    <tr>\n",
       "      <th>3</th>\n",
       "      <td>6/5/2015</td>\n",
       "      <td>0.0</td>\n",
       "    </tr>\n",
       "    <tr>\n",
       "      <th>4</th>\n",
       "      <td>7/5/2015</td>\n",
       "      <td>0.0</td>\n",
       "    </tr>\n",
       "  </tbody>\n",
       "</table>\n",
       "</div>"
      ],
      "text/plain": [
       "       date  label\n",
       "0  3/5/2015    NaN\n",
       "1  4/5/2015    0.0\n",
       "2  5/5/2015    0.0\n",
       "3  6/5/2015    0.0\n",
       "4  7/5/2015    0.0"
      ]
     },
     "execution_count": 5,
     "metadata": {},
     "output_type": "execute_result"
    }
   ],
   "source": [
    "train.head() # to check the head of the dataset"
   ]
  },
  {
   "cell_type": "markdown",
   "metadata": {
    "_uuid": "1c0773befad11826bf61349bbec761a3f2f1d1a6"
   },
   "source": [
    "to check the information  of the dataset"
   ]
  },
  {
   "cell_type": "code",
   "execution_count": 6,
   "metadata": {
    "_uuid": "a4d85d4ce99f12cee59b261ce03743227afb44e6"
   },
   "outputs": [
    {
     "name": "stdout",
     "output_type": "stream",
     "text": [
      "<class 'pandas.core.frame.DataFrame'>\n",
      "RangeIndex: 672 entries, 0 to 671\n",
      "Data columns (total 2 columns):\n",
      "date     514 non-null object\n",
      "label    513 non-null float64\n",
      "dtypes: float64(1), object(1)\n",
      "memory usage: 10.6+ KB\n"
     ]
    }
   ],
   "source": [
    "train.info()"
   ]
  },
  {
   "cell_type": "code",
   "execution_count": 7,
   "metadata": {
    "_uuid": "11d73b06e9765684778ebb1e2a6d00a927fb9866"
   },
   "outputs": [
    {
     "data": {
      "text/html": [
       "<div>\n",
       "<style scoped>\n",
       "    .dataframe tbody tr th:only-of-type {\n",
       "        vertical-align: middle;\n",
       "    }\n",
       "\n",
       "    .dataframe tbody tr th {\n",
       "        vertical-align: top;\n",
       "    }\n",
       "\n",
       "    .dataframe thead th {\n",
       "        text-align: right;\n",
       "    }\n",
       "</style>\n",
       "<table border=\"1\" class=\"dataframe\">\n",
       "  <thead>\n",
       "    <tr style=\"text-align: right;\">\n",
       "      <th></th>\n",
       "      <th>label</th>\n",
       "    </tr>\n",
       "  </thead>\n",
       "  <tbody>\n",
       "    <tr>\n",
       "      <th>count</th>\n",
       "      <td>513.000000</td>\n",
       "    </tr>\n",
       "    <tr>\n",
       "      <th>mean</th>\n",
       "      <td>0.048733</td>\n",
       "    </tr>\n",
       "    <tr>\n",
       "      <th>std</th>\n",
       "      <td>0.215519</td>\n",
       "    </tr>\n",
       "    <tr>\n",
       "      <th>min</th>\n",
       "      <td>0.000000</td>\n",
       "    </tr>\n",
       "    <tr>\n",
       "      <th>25%</th>\n",
       "      <td>0.000000</td>\n",
       "    </tr>\n",
       "    <tr>\n",
       "      <th>50%</th>\n",
       "      <td>0.000000</td>\n",
       "    </tr>\n",
       "    <tr>\n",
       "      <th>75%</th>\n",
       "      <td>0.000000</td>\n",
       "    </tr>\n",
       "    <tr>\n",
       "      <th>max</th>\n",
       "      <td>1.000000</td>\n",
       "    </tr>\n",
       "  </tbody>\n",
       "</table>\n",
       "</div>"
      ],
      "text/plain": [
       "            label\n",
       "count  513.000000\n",
       "mean     0.048733\n",
       "std      0.215519\n",
       "min      0.000000\n",
       "25%      0.000000\n",
       "50%      0.000000\n",
       "75%      0.000000\n",
       "max      1.000000"
      ]
     },
     "execution_count": 7,
     "metadata": {},
     "output_type": "execute_result"
    }
   ],
   "source": [
    "train.describe()"
   ]
  },
  {
   "cell_type": "code",
   "execution_count": 8,
   "metadata": {
    "_uuid": "acf057dfcb56dbf8e0e0aede8a6f8418c089f600"
   },
   "outputs": [
    {
     "data": {
      "text/plain": [
       "date     158\n",
       "label    159\n",
       "dtype: int64"
      ]
     },
     "execution_count": 8,
     "metadata": {},
     "output_type": "execute_result"
    }
   ],
   "source": [
    "train.isnull().sum() "
   ]
  },
  {
   "cell_type": "code",
   "execution_count": 9,
   "metadata": {
    "_uuid": "3d6f1ae1a8286e92f1c6b15e184d11c01b5c2aa4"
   },
   "outputs": [
    {
     "data": {
      "text/plain": [
       "date     25\n",
       "label    25\n",
       "dtype: int64"
      ]
     },
     "execution_count": 9,
     "metadata": {},
     "output_type": "execute_result"
    }
   ],
   "source": [
    "train[train['label']==1].count()"
   ]
  },
  {
   "cell_type": "code",
   "execution_count": 10,
   "metadata": {
    "_uuid": "a17dd4ea15dfb1bcdebf86e09381b375c4ffe86e"
   },
   "outputs": [
    {
     "data": {
      "text/plain": [
       "date     488\n",
       "label    488\n",
       "dtype: int64"
      ]
     },
     "execution_count": 10,
     "metadata": {},
     "output_type": "execute_result"
    }
   ],
   "source": [
    "train[train['label']==0].count()\n"
   ]
  },
  {
   "cell_type": "code",
   "execution_count": 11,
   "metadata": {
    "_uuid": "b0ea4a1b04991e3f3419a05452a148a4bbcf7941"
   },
   "outputs": [
    {
     "data": {
      "application/vnd.plotly.v1+json": {
       "config": {
        "linkText": "Export to plot.ly",
        "plotlyServerURL": "https://plot.ly",
        "showLink": false
       },
       "data": [
        {
         "type": "scatter",
         "x": [
          "3/5/2015",
          "4/5/2015",
          "5/5/2015",
          "6/5/2015",
          "7/5/2015",
          "8/5/2015",
          "9/5/2015",
          "10/5/2015",
          "11/5/2015",
          "12/5/2015",
          "13/5/2015",
          "14/5/2015",
          "15/5/2015",
          "16/5/2015",
          "17/5/2015",
          "18/5/2015",
          "19/5/2015",
          "20/5/2015",
          "21/5/2015",
          "22/5/2015",
          "23/5/2015",
          "24/5/2015",
          "25/5/2015",
          "26/5/2015",
          "27/5/2015",
          "28/5/2015",
          "29/5/2015",
          "30/5/2015",
          "2/6/2015",
          "3/6/2015",
          "4/6/2015",
          "5/6/2015",
          "6/6/2015",
          "7/6/2015",
          "8/6/2015",
          "9/6/2015",
          "10/6/2015",
          "11/6/2015",
          "12/6/2015",
          "13/6/2015",
          "14/6/2015",
          "15/6/2015",
          "16/6/2015",
          "17/6/2015",
          "18/6/2015",
          "19/6/2015",
          "20/6/2015",
          "21/6/2015",
          "22/6/2015",
          "23/6/2015",
          "24/6/2015",
          "25/6/2015",
          "26/6/2015",
          "27/6/2015",
          "28/6/2015",
          "29/6/2015",
          "30/6/2015",
          "1/7/2015",
          "2/7/2015",
          "3/7/2015",
          "4/7/2015",
          "5/7/2015",
          "6/7/2015",
          "7/7/2015",
          "8/7/2015",
          "9/7/2015",
          "10/7/2015",
          "11/7/2015",
          "12/7/2015",
          "13/7/2015",
          "14/7/2015",
          "15/7/2015",
          "16/7/2015",
          "17/7/2015",
          "18/7/2015",
          "19/7/2015",
          "20/7/2015",
          "21/7/2015",
          "22/7/2015",
          "23/7/2015",
          "24/7/2015",
          "25/7/2015",
          "26/7/2015",
          "27/7/2015",
          "28/7/2015",
          "29/7/2015",
          "30/7/2015",
          "31/7/2015",
          "1/8/2015",
          "2/8/2015",
          "3/8/2015",
          "4/8/2015",
          "5/8/2015",
          "6/8/2015",
          "7/8/2015",
          "8/8/2015",
          "9/8/2015",
          "10/8/2015",
          "11/8/2015",
          "12/8/2015",
          "13/8/2015",
          "14/8/2015",
          "15/8/2015",
          "16/8/2015",
          "17/8/2015",
          "18/8/2015",
          "19/8/2015",
          "20/8/2015",
          "21/8/2015",
          "22/8/2015",
          "23/8/2015",
          "24/8/2015",
          "25/8/2015",
          "26/8/2015",
          "27/8/2015",
          "28/8/2015",
          "29/8/2015",
          "30/8/2015",
          "31/8/2015",
          "1/9/2015",
          "2/9/2015",
          "3/9/2015",
          "4/9/2015",
          "5/9/2015",
          "6/9/2015",
          "7/9/2015",
          "8/9/2015",
          "9/9/2015",
          "10/9/2015",
          "11/9/2015",
          "12/9/2015",
          "13/9/2015",
          "14/9/2015",
          "15/9/2015",
          "16/9/2015",
          "17/9/2015",
          "18/9/2015",
          "19/9/2015",
          "20/9/2015",
          "21/9/2015",
          "22/9/2015",
          "23/9/2015",
          "24/9/2015",
          "25/9/2015",
          "26/9/2015",
          "27/9/2015",
          "28/9/2015",
          "29/9/2015",
          "30/9/2015",
          "1/10/2015",
          "2/10/2015",
          "3/10/2015",
          "4/10/2015",
          "5/10/2015",
          "6/10/2015",
          "7/10/2015",
          "8/10/2015",
          "9/10/2015",
          "10/10/2015",
          "11/10/2015",
          "12/10/2015",
          "13/10/2015",
          "14/10/2015",
          "15/10/2015",
          "16/10/2015",
          "17/10/2015",
          "18/10/2015",
          "19/10/2015",
          "20/10/2015",
          "21/10/2015",
          "22/10/2015",
          "23/10/2015",
          "24/10/2015",
          "25/10/2015",
          "26/10/2015",
          "27/10/2015",
          "28/10/2015",
          "29/10/2015",
          "30/10/2015",
          "31/10/2015",
          "1/11/2015",
          "2/11/2015",
          "3/11/2015",
          "4/11/2015",
          "5/11/2015",
          "6/11/2015",
          "7/11/2015",
          "8/11/2015",
          "9/11/2015",
          "10/11/2015",
          "11/11/2015",
          "12/11/2015",
          "13/11/2015",
          "14/11/2015",
          "15/11/2015",
          "16/11/2015",
          "17/11/2015",
          "18/11/2015",
          "19/11/2015",
          "20/11/2015",
          "21/11/2015",
          "22/11/2015",
          "23/11/2015",
          "24/11/2015",
          "25/11/2015",
          "26/11/2015",
          "27/11/2015",
          "28/11/2015",
          "29/11/2015",
          "30/11/2015",
          "1/12/2015",
          "2/12/2015",
          "3/12/2015",
          "4/12/2015",
          "5/12/2015",
          "6/12/2015",
          "7/12/2015",
          "8/12/2015",
          "9/12/2015",
          "10/12/2015",
          "11/12/2015",
          "12/12/2015",
          "13/12/2015",
          "14/12/2015",
          "15/12/2015",
          "16/12/2015",
          "17/12/2015",
          "18/12/2015",
          "19/12/2015",
          "20/12/2015",
          "21/12/2015",
          "22/12/2015",
          "23/12/2015",
          "24/12/2015",
          "25/12/2015",
          "26/12/2015",
          "27/12/2015",
          "28/12/2015",
          "29/12/2015",
          "30/12/2015",
          "31/12/2015",
          "1/1/2016",
          "2/1/2016",
          "3/1/2016",
          "4/1/2016",
          "5/1/2016",
          "6/1/2016",
          "7/1/2016",
          "8/1/2016",
          "9/1/2016",
          "10/1/2016",
          "11/1/2016",
          "12/1/2016",
          "13/1/2016",
          "14/1/2016",
          "15/1/2016",
          "16/1/2016",
          "17/1/2016",
          "18/1/2016",
          "19/1/2016",
          "20/1/2016",
          "21/1/2016",
          "22/1/2016",
          "23/1/2016",
          "24/1/2016",
          "25/1/2016",
          "26/1/2016",
          "27/1/2016",
          "28/1/2016",
          "29/1/2016",
          "30/1/2016",
          "31/1/2016",
          "1/2/2016",
          "2/2/2016",
          "3/2/2016",
          "4/2/2016",
          "5/2/2016",
          "6/2/2016",
          "7/2/2016",
          "8/2/2016",
          "9/2/2016",
          "10/2/2016",
          "11/2/2016",
          "12/2/2016",
          "13/2/2016",
          "14/2/2016",
          "15/2/2016",
          "16/2/2016",
          "17/2/2016",
          "18/2/2016",
          "19/2/2016",
          "20/2/2016",
          "21/2/2016",
          "22/2/2016",
          "23/2/2016",
          "24/2/2016",
          "25/2/2016",
          "26/2/2016",
          "27/2/2016",
          "28/2/2016",
          "29/2/2016",
          "1/3/2016",
          "2/3/2016",
          "3/3/2016",
          "4/3/2016",
          "5/3/2016",
          "6/3/2016",
          "7/3/2016",
          "8/3/2016",
          "9/3/2016",
          "10/3/2016",
          "11/3/2016",
          "12/3/2016",
          "13/3/2016",
          "14/3/2016",
          "15/3/2016",
          "16/3/2016",
          "17/3/2016",
          "18/3/2016",
          "19/3/2016",
          "20/3/2016",
          "21/3/2016",
          "22/3/2016",
          "23/3/2016",
          "24/3/2016",
          "25/3/2016",
          "26/3/2016",
          "27/3/2016",
          "28/3/2016",
          "29/3/2016",
          "30/3/2016",
          "31/3/2016",
          "1/4/2016",
          "2/4/2016",
          "3/4/2016",
          "4/4/2016",
          "5/4/2016",
          "6/4/2016",
          "7/4/2016",
          "8/4/2016",
          "9/4/2016",
          "10/4/2016",
          "11/4/2016",
          "12/4/2016",
          "13/4/2016",
          "14/4/2016",
          "15/4/2016",
          "16/4/2016",
          "17/4/2016",
          "18/4/2016",
          "19/4/2016",
          "20/4/2016",
          "21/4/2016",
          "22/4/2016",
          "23/4/2016",
          "24/4/2016",
          "25/4/2016",
          "26/4/2016",
          "27/4/2016",
          "28/4/2016",
          "29/4/2016",
          "30/4/2016",
          "1/5/2016",
          "2/5/2016",
          "3/5/2016",
          "4/5/2016",
          "5/5/2016",
          "6/5/2016",
          "7/5/2016",
          "8/5/2016",
          "9/5/2016",
          "10/5/2016",
          "11/5/2016",
          "12/5/2016",
          "13/5/2016",
          "14/5/2016",
          "15/5/2016",
          "16/5/2016",
          "17/5/2016",
          "18/5/2016",
          "19/5/2016",
          "20/5/2016",
          "21/5/2016",
          "22/5/2016",
          "23/5/2016",
          "24/5/2016",
          "25/5/2016",
          "26/5/2016",
          "27/5/2016",
          "28/5/2016",
          "29/5/2016",
          "30/5/2016",
          "31/5/2016",
          "1/6/2016",
          "2/6/2016",
          "3/6/2016",
          "4/6/2016",
          "5/6/2016",
          "6/6/2016",
          "7/6/2016",
          "8/6/2016",
          "9/6/2016",
          "10/6/2016",
          "11/6/2016",
          "12/6/2016",
          "13/6/2016",
          "14/6/2016",
          "15/6/2016",
          "16/6/2016",
          "17/6/2016",
          "18/6/2016",
          "19/6/2016",
          "20/6/2016",
          "21/6/2016",
          "28/6/2016",
          "29/6/2016",
          "30/6/2016",
          "1/7/2016",
          "2/7/2016",
          "3/7/2016",
          "4/7/2016",
          "5/7/2016",
          "6/7/2016",
          "7/7/2016",
          "8/7/2016",
          "9/7/2016",
          "10/7/2016",
          "11/7/2016",
          "12/7/2016",
          "13/7/2016",
          "14/7/2016",
          "15/7/2016",
          "16/7/2016",
          "17/7/2016",
          "18/7/2016",
          "19/7/2016",
          "20/7/2016",
          "21/7/2016",
          "22/7/2016",
          "23/7/2016",
          "24/7/2016",
          "25/7/2016",
          "26/7/2016",
          "27/7/2016",
          "28/7/2016",
          "29/7/2016",
          "30/7/2016",
          "31/7/2016",
          "1/8/2016",
          "2/8/2016",
          "3/8/2016",
          "4/8/2016",
          "5/8/2016",
          "6/8/2016",
          "7/8/2016",
          "8/8/2016",
          "9/8/2016",
          "10/8/2016",
          "11/8/2016",
          "12/8/2016",
          "13/8/2016",
          "14/8/2016",
          "15/8/2016",
          "16/8/2016",
          "17/8/2016",
          "18/8/2016",
          "19/8/2016",
          "20/8/2016",
          "21/8/2016",
          "22/8/2016",
          "23/8/2016",
          "24/8/2016",
          "25/8/2016",
          "26/8/2016",
          "27/8/2016",
          "28/8/2016",
          "29/8/2016",
          "30/8/2016",
          "31/8/2016",
          "1/9/2016",
          "2/9/2016",
          "3/9/2016",
          "4/9/2016",
          "5/9/2016",
          "6/9/2016",
          "7/9/2016",
          "8/9/2016",
          "9/9/2016",
          "10/9/2016",
          "11/9/2016",
          "12/9/2016",
          "13/9/2016",
          "14/9/2016",
          "15/9/2016",
          "16/9/2016",
          "17/9/2016",
          "18/9/2016",
          "19/9/2016",
          "20/9/2016",
          "21/9/2016",
          "22/9/2016",
          "23/9/2016",
          "24/9/2016",
          "25/9/2016",
          "26/9/2016",
          "27/9/2016",
          "28/9/2016",
          "29/9/2016",
          "30/9/2016",
          "1/10/2016",
          "2/10/2016",
          "3/10/2016",
          "4/10/2016",
          "5/10/2016",
          null,
          null,
          null,
          null,
          null,
          null,
          null,
          null,
          null,
          null,
          null,
          null,
          null,
          null,
          null,
          null,
          null,
          null,
          null,
          null,
          null,
          null,
          null,
          null,
          null,
          null,
          null,
          null,
          null,
          null,
          null,
          null,
          null,
          null,
          null,
          null,
          null,
          null,
          null,
          null,
          null,
          null,
          null,
          null,
          null,
          null,
          null,
          null,
          null,
          null,
          null,
          null,
          null,
          null,
          null,
          null,
          null,
          null,
          null,
          null,
          null,
          null,
          null,
          null,
          null,
          null,
          null,
          null,
          null,
          null,
          null,
          null,
          null,
          null,
          null,
          null,
          null,
          null,
          null,
          null,
          null,
          null,
          null,
          null,
          null,
          null,
          null,
          null,
          null,
          null,
          null,
          null,
          null,
          null,
          null,
          null,
          null,
          null,
          null,
          null,
          null,
          null,
          null,
          null,
          null,
          null,
          null,
          null,
          null,
          null,
          null,
          null,
          null,
          null,
          null,
          null,
          null,
          null,
          null,
          null,
          null,
          null,
          null,
          null,
          null,
          null,
          null,
          null,
          null,
          null,
          null,
          null,
          null,
          null,
          null,
          null,
          null,
          null,
          null,
          null,
          null,
          null,
          null,
          null,
          null,
          null,
          null,
          null,
          null,
          null,
          null,
          null,
          null,
          null,
          null,
          null,
          null,
          null
         ],
         "y": [
          null,
          0,
          0,
          0,
          0,
          0,
          0,
          0,
          0,
          0,
          0,
          0,
          0,
          0,
          0,
          0,
          0,
          0,
          0,
          0,
          0,
          0,
          0,
          0,
          0,
          0,
          0,
          0,
          0,
          0,
          0,
          1,
          0,
          0,
          0,
          0,
          0,
          0,
          0,
          0,
          0,
          0,
          0,
          0,
          0,
          0,
          0,
          0,
          0,
          0,
          0,
          0,
          0,
          0,
          0,
          0,
          0,
          0,
          0,
          0,
          0,
          0,
          1,
          0,
          0,
          0,
          0,
          0,
          0,
          0,
          0,
          0,
          0,
          0,
          0,
          0,
          0,
          0,
          0,
          0,
          0,
          0,
          0,
          0,
          0,
          0,
          0,
          0,
          0,
          0,
          0,
          0,
          0,
          0,
          0,
          0,
          0,
          0,
          0,
          0,
          0,
          0,
          0,
          0,
          0,
          0,
          0,
          0,
          0,
          0,
          0,
          0,
          0,
          0,
          0,
          0,
          0,
          0,
          0,
          0,
          0,
          0,
          0,
          0,
          0,
          0,
          0,
          0,
          0,
          0,
          0,
          0,
          0,
          0,
          0,
          0,
          0,
          0,
          0,
          0,
          1,
          0,
          0,
          0,
          0,
          0,
          0,
          0,
          0,
          0,
          0,
          0,
          0,
          0,
          0,
          0,
          0,
          0,
          0,
          0,
          0,
          0,
          0,
          0,
          0,
          0,
          0,
          0,
          0,
          0,
          0,
          0,
          0,
          0,
          0,
          0,
          0,
          0,
          0,
          0,
          0,
          0,
          0,
          0,
          0,
          0,
          0,
          0,
          0,
          0,
          0,
          0,
          0,
          0,
          0,
          0,
          0,
          0,
          0,
          1,
          0,
          0,
          0,
          0,
          0,
          0,
          0,
          0,
          0,
          0,
          0,
          0,
          0,
          0,
          0,
          0,
          0,
          0,
          0,
          0,
          0,
          0,
          0,
          0,
          0,
          0,
          0,
          0,
          0,
          0,
          1,
          0,
          0,
          0,
          0,
          0,
          0,
          0,
          0,
          0,
          0,
          0,
          0,
          0,
          0,
          1,
          0,
          0,
          0,
          0,
          0,
          0,
          0,
          0,
          0,
          0,
          0,
          0,
          0,
          0,
          0,
          0,
          0,
          0,
          0,
          0,
          1,
          0,
          0,
          0,
          0,
          0,
          0,
          1,
          0,
          1,
          0,
          0,
          0,
          0,
          0,
          0,
          0,
          0,
          0,
          1,
          0,
          0,
          0,
          0,
          0,
          0,
          0,
          0,
          0,
          0,
          0,
          0,
          0,
          0,
          0,
          1,
          0,
          1,
          0,
          0,
          0,
          0,
          0,
          0,
          0,
          0,
          0,
          0,
          0,
          0,
          0,
          0,
          0,
          0,
          0,
          0,
          0,
          0,
          0,
          0,
          0,
          0,
          0,
          0,
          0,
          0,
          0,
          0,
          0,
          1,
          0,
          0,
          0,
          0,
          0,
          0,
          0,
          1,
          0,
          0,
          0,
          0,
          0,
          0,
          0,
          0,
          0,
          0,
          0,
          0,
          0,
          0,
          0,
          0,
          0,
          1,
          0,
          0,
          0,
          0,
          0,
          0,
          0,
          0,
          0,
          0,
          0,
          0,
          0,
          0,
          0,
          0,
          0,
          0,
          0,
          0,
          0,
          0,
          0,
          0,
          0,
          1,
          1,
          0,
          0,
          0,
          0,
          1,
          0,
          1,
          1,
          0,
          0,
          0,
          0,
          0,
          0,
          0,
          0,
          0,
          0,
          0,
          0,
          0,
          0,
          0,
          0,
          0,
          0,
          0,
          1,
          0,
          0,
          0,
          0,
          0,
          0,
          0,
          0,
          0,
          0,
          0,
          0,
          1,
          0,
          0,
          0,
          0,
          0,
          0,
          0,
          0,
          0,
          0,
          0,
          0,
          0,
          0,
          0,
          0,
          0,
          0,
          0,
          0,
          0,
          0,
          0,
          0,
          0,
          0,
          0,
          0,
          0,
          0,
          0,
          0,
          0,
          0,
          1,
          0,
          0,
          0,
          0,
          0,
          0,
          0,
          0,
          0,
          0,
          0,
          0,
          0,
          0,
          0,
          0,
          0,
          0,
          0,
          0,
          0,
          0,
          0,
          0,
          0,
          0,
          0,
          0,
          1,
          0,
          0,
          0,
          0,
          0,
          0,
          0,
          0,
          0,
          0,
          0,
          0,
          0,
          0,
          1,
          0,
          0,
          0,
          0,
          0,
          null,
          null,
          null,
          null,
          null,
          null,
          null,
          null,
          null,
          null,
          null,
          null,
          null,
          null,
          null,
          null,
          null,
          null,
          null,
          null,
          null,
          null,
          null,
          null,
          null,
          null,
          null,
          null,
          null,
          null,
          null,
          null,
          null,
          null,
          null,
          null,
          null,
          null,
          null,
          null,
          null,
          null,
          null,
          null,
          null,
          null,
          null,
          null,
          null,
          null,
          null,
          null,
          null,
          null,
          null,
          null,
          null,
          null,
          null,
          null,
          null,
          null,
          null,
          null,
          null,
          null,
          null,
          null,
          null,
          null,
          null,
          null,
          null,
          null,
          null,
          null,
          null,
          null,
          null,
          null,
          null,
          null,
          null,
          null,
          null,
          null,
          null,
          null,
          null,
          null,
          null,
          null,
          null,
          null,
          null,
          null,
          null,
          null,
          null,
          null,
          null,
          null,
          null,
          null,
          null,
          null,
          null,
          null,
          null,
          null,
          null,
          null,
          null,
          null,
          null,
          null,
          null,
          null,
          null,
          null,
          null,
          null,
          null,
          null,
          null,
          null,
          null,
          null,
          null,
          null,
          null,
          null,
          null,
          null,
          null,
          null,
          null,
          null,
          null,
          null,
          null,
          null,
          null,
          null,
          null,
          null,
          null,
          null,
          null,
          null,
          null,
          null,
          null,
          null,
          null,
          null,
          null,
          null
         ]
        }
       ],
       "layout": {
        "template": {
         "data": {
          "bar": [
           {
            "error_x": {
             "color": "#2a3f5f"
            },
            "error_y": {
             "color": "#2a3f5f"
            },
            "marker": {
             "line": {
              "color": "#E5ECF6",
              "width": 0.5
             }
            },
            "type": "bar"
           }
          ],
          "barpolar": [
           {
            "marker": {
             "line": {
              "color": "#E5ECF6",
              "width": 0.5
             }
            },
            "type": "barpolar"
           }
          ],
          "carpet": [
           {
            "aaxis": {
             "endlinecolor": "#2a3f5f",
             "gridcolor": "white",
             "linecolor": "white",
             "minorgridcolor": "white",
             "startlinecolor": "#2a3f5f"
            },
            "baxis": {
             "endlinecolor": "#2a3f5f",
             "gridcolor": "white",
             "linecolor": "white",
             "minorgridcolor": "white",
             "startlinecolor": "#2a3f5f"
            },
            "type": "carpet"
           }
          ],
          "choropleth": [
           {
            "colorbar": {
             "outlinewidth": 0,
             "ticks": ""
            },
            "type": "choropleth"
           }
          ],
          "contour": [
           {
            "colorbar": {
             "outlinewidth": 0,
             "ticks": ""
            },
            "colorscale": [
             [
              0,
              "#0d0887"
             ],
             [
              0.1111111111111111,
              "#46039f"
             ],
             [
              0.2222222222222222,
              "#7201a8"
             ],
             [
              0.3333333333333333,
              "#9c179e"
             ],
             [
              0.4444444444444444,
              "#bd3786"
             ],
             [
              0.5555555555555556,
              "#d8576b"
             ],
             [
              0.6666666666666666,
              "#ed7953"
             ],
             [
              0.7777777777777778,
              "#fb9f3a"
             ],
             [
              0.8888888888888888,
              "#fdca26"
             ],
             [
              1,
              "#f0f921"
             ]
            ],
            "type": "contour"
           }
          ],
          "contourcarpet": [
           {
            "colorbar": {
             "outlinewidth": 0,
             "ticks": ""
            },
            "type": "contourcarpet"
           }
          ],
          "heatmap": [
           {
            "colorbar": {
             "outlinewidth": 0,
             "ticks": ""
            },
            "colorscale": [
             [
              0,
              "#0d0887"
             ],
             [
              0.1111111111111111,
              "#46039f"
             ],
             [
              0.2222222222222222,
              "#7201a8"
             ],
             [
              0.3333333333333333,
              "#9c179e"
             ],
             [
              0.4444444444444444,
              "#bd3786"
             ],
             [
              0.5555555555555556,
              "#d8576b"
             ],
             [
              0.6666666666666666,
              "#ed7953"
             ],
             [
              0.7777777777777778,
              "#fb9f3a"
             ],
             [
              0.8888888888888888,
              "#fdca26"
             ],
             [
              1,
              "#f0f921"
             ]
            ],
            "type": "heatmap"
           }
          ],
          "heatmapgl": [
           {
            "colorbar": {
             "outlinewidth": 0,
             "ticks": ""
            },
            "colorscale": [
             [
              0,
              "#0d0887"
             ],
             [
              0.1111111111111111,
              "#46039f"
             ],
             [
              0.2222222222222222,
              "#7201a8"
             ],
             [
              0.3333333333333333,
              "#9c179e"
             ],
             [
              0.4444444444444444,
              "#bd3786"
             ],
             [
              0.5555555555555556,
              "#d8576b"
             ],
             [
              0.6666666666666666,
              "#ed7953"
             ],
             [
              0.7777777777777778,
              "#fb9f3a"
             ],
             [
              0.8888888888888888,
              "#fdca26"
             ],
             [
              1,
              "#f0f921"
             ]
            ],
            "type": "heatmapgl"
           }
          ],
          "histogram": [
           {
            "marker": {
             "colorbar": {
              "outlinewidth": 0,
              "ticks": ""
             }
            },
            "type": "histogram"
           }
          ],
          "histogram2d": [
           {
            "colorbar": {
             "outlinewidth": 0,
             "ticks": ""
            },
            "colorscale": [
             [
              0,
              "#0d0887"
             ],
             [
              0.1111111111111111,
              "#46039f"
             ],
             [
              0.2222222222222222,
              "#7201a8"
             ],
             [
              0.3333333333333333,
              "#9c179e"
             ],
             [
              0.4444444444444444,
              "#bd3786"
             ],
             [
              0.5555555555555556,
              "#d8576b"
             ],
             [
              0.6666666666666666,
              "#ed7953"
             ],
             [
              0.7777777777777778,
              "#fb9f3a"
             ],
             [
              0.8888888888888888,
              "#fdca26"
             ],
             [
              1,
              "#f0f921"
             ]
            ],
            "type": "histogram2d"
           }
          ],
          "histogram2dcontour": [
           {
            "colorbar": {
             "outlinewidth": 0,
             "ticks": ""
            },
            "colorscale": [
             [
              0,
              "#0d0887"
             ],
             [
              0.1111111111111111,
              "#46039f"
             ],
             [
              0.2222222222222222,
              "#7201a8"
             ],
             [
              0.3333333333333333,
              "#9c179e"
             ],
             [
              0.4444444444444444,
              "#bd3786"
             ],
             [
              0.5555555555555556,
              "#d8576b"
             ],
             [
              0.6666666666666666,
              "#ed7953"
             ],
             [
              0.7777777777777778,
              "#fb9f3a"
             ],
             [
              0.8888888888888888,
              "#fdca26"
             ],
             [
              1,
              "#f0f921"
             ]
            ],
            "type": "histogram2dcontour"
           }
          ],
          "mesh3d": [
           {
            "colorbar": {
             "outlinewidth": 0,
             "ticks": ""
            },
            "type": "mesh3d"
           }
          ],
          "parcoords": [
           {
            "line": {
             "colorbar": {
              "outlinewidth": 0,
              "ticks": ""
             }
            },
            "type": "parcoords"
           }
          ],
          "pie": [
           {
            "automargin": true,
            "type": "pie"
           }
          ],
          "scatter": [
           {
            "marker": {
             "colorbar": {
              "outlinewidth": 0,
              "ticks": ""
             }
            },
            "type": "scatter"
           }
          ],
          "scatter3d": [
           {
            "line": {
             "colorbar": {
              "outlinewidth": 0,
              "ticks": ""
             }
            },
            "marker": {
             "colorbar": {
              "outlinewidth": 0,
              "ticks": ""
             }
            },
            "type": "scatter3d"
           }
          ],
          "scattercarpet": [
           {
            "marker": {
             "colorbar": {
              "outlinewidth": 0,
              "ticks": ""
             }
            },
            "type": "scattercarpet"
           }
          ],
          "scattergeo": [
           {
            "marker": {
             "colorbar": {
              "outlinewidth": 0,
              "ticks": ""
             }
            },
            "type": "scattergeo"
           }
          ],
          "scattergl": [
           {
            "marker": {
             "colorbar": {
              "outlinewidth": 0,
              "ticks": ""
             }
            },
            "type": "scattergl"
           }
          ],
          "scattermapbox": [
           {
            "marker": {
             "colorbar": {
              "outlinewidth": 0,
              "ticks": ""
             }
            },
            "type": "scattermapbox"
           }
          ],
          "scatterpolar": [
           {
            "marker": {
             "colorbar": {
              "outlinewidth": 0,
              "ticks": ""
             }
            },
            "type": "scatterpolar"
           }
          ],
          "scatterpolargl": [
           {
            "marker": {
             "colorbar": {
              "outlinewidth": 0,
              "ticks": ""
             }
            },
            "type": "scatterpolargl"
           }
          ],
          "scatterternary": [
           {
            "marker": {
             "colorbar": {
              "outlinewidth": 0,
              "ticks": ""
             }
            },
            "type": "scatterternary"
           }
          ],
          "surface": [
           {
            "colorbar": {
             "outlinewidth": 0,
             "ticks": ""
            },
            "colorscale": [
             [
              0,
              "#0d0887"
             ],
             [
              0.1111111111111111,
              "#46039f"
             ],
             [
              0.2222222222222222,
              "#7201a8"
             ],
             [
              0.3333333333333333,
              "#9c179e"
             ],
             [
              0.4444444444444444,
              "#bd3786"
             ],
             [
              0.5555555555555556,
              "#d8576b"
             ],
             [
              0.6666666666666666,
              "#ed7953"
             ],
             [
              0.7777777777777778,
              "#fb9f3a"
             ],
             [
              0.8888888888888888,
              "#fdca26"
             ],
             [
              1,
              "#f0f921"
             ]
            ],
            "type": "surface"
           }
          ],
          "table": [
           {
            "cells": {
             "fill": {
              "color": "#EBF0F8"
             },
             "line": {
              "color": "white"
             }
            },
            "header": {
             "fill": {
              "color": "#C8D4E3"
             },
             "line": {
              "color": "white"
             }
            },
            "type": "table"
           }
          ]
         },
         "layout": {
          "annotationdefaults": {
           "arrowcolor": "#2a3f5f",
           "arrowhead": 0,
           "arrowwidth": 1
          },
          "coloraxis": {
           "colorbar": {
            "outlinewidth": 0,
            "ticks": ""
           }
          },
          "colorscale": {
           "diverging": [
            [
             0,
             "#8e0152"
            ],
            [
             0.1,
             "#c51b7d"
            ],
            [
             0.2,
             "#de77ae"
            ],
            [
             0.3,
             "#f1b6da"
            ],
            [
             0.4,
             "#fde0ef"
            ],
            [
             0.5,
             "#f7f7f7"
            ],
            [
             0.6,
             "#e6f5d0"
            ],
            [
             0.7,
             "#b8e186"
            ],
            [
             0.8,
             "#7fbc41"
            ],
            [
             0.9,
             "#4d9221"
            ],
            [
             1,
             "#276419"
            ]
           ],
           "sequential": [
            [
             0,
             "#0d0887"
            ],
            [
             0.1111111111111111,
             "#46039f"
            ],
            [
             0.2222222222222222,
             "#7201a8"
            ],
            [
             0.3333333333333333,
             "#9c179e"
            ],
            [
             0.4444444444444444,
             "#bd3786"
            ],
            [
             0.5555555555555556,
             "#d8576b"
            ],
            [
             0.6666666666666666,
             "#ed7953"
            ],
            [
             0.7777777777777778,
             "#fb9f3a"
            ],
            [
             0.8888888888888888,
             "#fdca26"
            ],
            [
             1,
             "#f0f921"
            ]
           ],
           "sequentialminus": [
            [
             0,
             "#0d0887"
            ],
            [
             0.1111111111111111,
             "#46039f"
            ],
            [
             0.2222222222222222,
             "#7201a8"
            ],
            [
             0.3333333333333333,
             "#9c179e"
            ],
            [
             0.4444444444444444,
             "#bd3786"
            ],
            [
             0.5555555555555556,
             "#d8576b"
            ],
            [
             0.6666666666666666,
             "#ed7953"
            ],
            [
             0.7777777777777778,
             "#fb9f3a"
            ],
            [
             0.8888888888888888,
             "#fdca26"
            ],
            [
             1,
             "#f0f921"
            ]
           ]
          },
          "colorway": [
           "#636efa",
           "#EF553B",
           "#00cc96",
           "#ab63fa",
           "#FFA15A",
           "#19d3f3",
           "#FF6692",
           "#B6E880",
           "#FF97FF",
           "#FECB52"
          ],
          "font": {
           "color": "#2a3f5f"
          },
          "geo": {
           "bgcolor": "white",
           "lakecolor": "white",
           "landcolor": "#E5ECF6",
           "showlakes": true,
           "showland": true,
           "subunitcolor": "white"
          },
          "hoverlabel": {
           "align": "left"
          },
          "hovermode": "closest",
          "mapbox": {
           "style": "light"
          },
          "paper_bgcolor": "white",
          "plot_bgcolor": "#E5ECF6",
          "polar": {
           "angularaxis": {
            "gridcolor": "white",
            "linecolor": "white",
            "ticks": ""
           },
           "bgcolor": "#E5ECF6",
           "radialaxis": {
            "gridcolor": "white",
            "linecolor": "white",
            "ticks": ""
           }
          },
          "scene": {
           "xaxis": {
            "backgroundcolor": "#E5ECF6",
            "gridcolor": "white",
            "gridwidth": 2,
            "linecolor": "white",
            "showbackground": true,
            "ticks": "",
            "zerolinecolor": "white"
           },
           "yaxis": {
            "backgroundcolor": "#E5ECF6",
            "gridcolor": "white",
            "gridwidth": 2,
            "linecolor": "white",
            "showbackground": true,
            "ticks": "",
            "zerolinecolor": "white"
           },
           "zaxis": {
            "backgroundcolor": "#E5ECF6",
            "gridcolor": "white",
            "gridwidth": 2,
            "linecolor": "white",
            "showbackground": true,
            "ticks": "",
            "zerolinecolor": "white"
           }
          },
          "shapedefaults": {
           "line": {
            "color": "#2a3f5f"
           }
          },
          "ternary": {
           "aaxis": {
            "gridcolor": "white",
            "linecolor": "white",
            "ticks": ""
           },
           "baxis": {
            "gridcolor": "white",
            "linecolor": "white",
            "ticks": ""
           },
           "bgcolor": "#E5ECF6",
           "caxis": {
            "gridcolor": "white",
            "linecolor": "white",
            "ticks": ""
           }
          },
          "title": {
           "x": 0.05
          },
          "xaxis": {
           "automargin": true,
           "gridcolor": "white",
           "linecolor": "white",
           "ticks": "",
           "title": {
            "standoff": 15
           },
           "zerolinecolor": "white",
           "zerolinewidth": 2
          },
          "yaxis": {
           "automargin": true,
           "gridcolor": "white",
           "linecolor": "white",
           "ticks": "",
           "title": {
            "standoff": 15
           },
           "zerolinecolor": "white",
           "zerolinewidth": 2
          }
         }
        }
       }
      },
      "text/html": [
       "<div>\n",
       "        \n",
       "        \n",
       "            <div id=\"a306f24e-5025-49c4-bb3d-7a0e51ba0b3e\" class=\"plotly-graph-div\" style=\"height:525px; width:100%;\"></div>\n",
       "            <script type=\"text/javascript\">\n",
       "                require([\"plotly\"], function(Plotly) {\n",
       "                    window.PLOTLYENV=window.PLOTLYENV || {};\n",
       "                    \n",
       "                if (document.getElementById(\"a306f24e-5025-49c4-bb3d-7a0e51ba0b3e\")) {\n",
       "                    Plotly.newPlot(\n",
       "                        'a306f24e-5025-49c4-bb3d-7a0e51ba0b3e',\n",
       "                        [{\"type\": \"scatter\", \"x\": [\"3/5/2015\", \"4/5/2015\", \"5/5/2015\", \"6/5/2015\", \"7/5/2015\", \"8/5/2015\", \"9/5/2015\", \"10/5/2015\", \"11/5/2015\", \"12/5/2015\", \"13/5/2015\", \"14/5/2015\", \"15/5/2015\", \"16/5/2015\", \"17/5/2015\", \"18/5/2015\", \"19/5/2015\", \"20/5/2015\", \"21/5/2015\", \"22/5/2015\", \"23/5/2015\", \"24/5/2015\", \"25/5/2015\", \"26/5/2015\", \"27/5/2015\", \"28/5/2015\", \"29/5/2015\", \"30/5/2015\", \"2/6/2015\", \"3/6/2015\", \"4/6/2015\", \"5/6/2015\", \"6/6/2015\", \"7/6/2015\", \"8/6/2015\", \"9/6/2015\", \"10/6/2015\", \"11/6/2015\", \"12/6/2015\", \"13/6/2015\", \"14/6/2015\", \"15/6/2015\", \"16/6/2015\", \"17/6/2015\", \"18/6/2015\", \"19/6/2015\", \"20/6/2015\", \"21/6/2015\", \"22/6/2015\", \"23/6/2015\", \"24/6/2015\", \"25/6/2015\", \"26/6/2015\", \"27/6/2015\", \"28/6/2015\", \"29/6/2015\", \"30/6/2015\", \"1/7/2015\", \"2/7/2015\", \"3/7/2015\", \"4/7/2015\", \"5/7/2015\", \"6/7/2015\", \"7/7/2015\", \"8/7/2015\", \"9/7/2015\", \"10/7/2015\", \"11/7/2015\", \"12/7/2015\", \"13/7/2015\", \"14/7/2015\", \"15/7/2015\", \"16/7/2015\", \"17/7/2015\", \"18/7/2015\", \"19/7/2015\", \"20/7/2015\", \"21/7/2015\", \"22/7/2015\", \"23/7/2015\", \"24/7/2015\", \"25/7/2015\", \"26/7/2015\", \"27/7/2015\", \"28/7/2015\", \"29/7/2015\", \"30/7/2015\", \"31/7/2015\", \"1/8/2015\", \"2/8/2015\", \"3/8/2015\", \"4/8/2015\", \"5/8/2015\", \"6/8/2015\", \"7/8/2015\", \"8/8/2015\", \"9/8/2015\", \"10/8/2015\", \"11/8/2015\", \"12/8/2015\", \"13/8/2015\", \"14/8/2015\", \"15/8/2015\", \"16/8/2015\", \"17/8/2015\", \"18/8/2015\", \"19/8/2015\", \"20/8/2015\", \"21/8/2015\", \"22/8/2015\", \"23/8/2015\", \"24/8/2015\", \"25/8/2015\", \"26/8/2015\", \"27/8/2015\", \"28/8/2015\", \"29/8/2015\", \"30/8/2015\", \"31/8/2015\", \"1/9/2015\", \"2/9/2015\", \"3/9/2015\", \"4/9/2015\", \"5/9/2015\", \"6/9/2015\", \"7/9/2015\", \"8/9/2015\", \"9/9/2015\", \"10/9/2015\", \"11/9/2015\", \"12/9/2015\", \"13/9/2015\", \"14/9/2015\", \"15/9/2015\", \"16/9/2015\", \"17/9/2015\", \"18/9/2015\", \"19/9/2015\", \"20/9/2015\", \"21/9/2015\", \"22/9/2015\", \"23/9/2015\", \"24/9/2015\", \"25/9/2015\", \"26/9/2015\", \"27/9/2015\", \"28/9/2015\", \"29/9/2015\", \"30/9/2015\", \"1/10/2015\", \"2/10/2015\", \"3/10/2015\", \"4/10/2015\", \"5/10/2015\", \"6/10/2015\", \"7/10/2015\", \"8/10/2015\", \"9/10/2015\", \"10/10/2015\", \"11/10/2015\", \"12/10/2015\", \"13/10/2015\", \"14/10/2015\", \"15/10/2015\", \"16/10/2015\", \"17/10/2015\", \"18/10/2015\", \"19/10/2015\", \"20/10/2015\", \"21/10/2015\", \"22/10/2015\", \"23/10/2015\", \"24/10/2015\", \"25/10/2015\", \"26/10/2015\", \"27/10/2015\", \"28/10/2015\", \"29/10/2015\", \"30/10/2015\", \"31/10/2015\", \"1/11/2015\", \"2/11/2015\", \"3/11/2015\", \"4/11/2015\", \"5/11/2015\", \"6/11/2015\", \"7/11/2015\", \"8/11/2015\", \"9/11/2015\", \"10/11/2015\", \"11/11/2015\", \"12/11/2015\", \"13/11/2015\", \"14/11/2015\", \"15/11/2015\", \"16/11/2015\", \"17/11/2015\", \"18/11/2015\", \"19/11/2015\", \"20/11/2015\", \"21/11/2015\", \"22/11/2015\", \"23/11/2015\", \"24/11/2015\", \"25/11/2015\", \"26/11/2015\", \"27/11/2015\", \"28/11/2015\", \"29/11/2015\", \"30/11/2015\", \"1/12/2015\", \"2/12/2015\", \"3/12/2015\", \"4/12/2015\", \"5/12/2015\", \"6/12/2015\", \"7/12/2015\", \"8/12/2015\", \"9/12/2015\", \"10/12/2015\", \"11/12/2015\", \"12/12/2015\", \"13/12/2015\", \"14/12/2015\", \"15/12/2015\", \"16/12/2015\", \"17/12/2015\", \"18/12/2015\", \"19/12/2015\", \"20/12/2015\", \"21/12/2015\", \"22/12/2015\", \"23/12/2015\", \"24/12/2015\", \"25/12/2015\", \"26/12/2015\", \"27/12/2015\", \"28/12/2015\", \"29/12/2015\", \"30/12/2015\", \"31/12/2015\", \"1/1/2016\", \"2/1/2016\", \"3/1/2016\", \"4/1/2016\", \"5/1/2016\", \"6/1/2016\", \"7/1/2016\", \"8/1/2016\", \"9/1/2016\", \"10/1/2016\", \"11/1/2016\", \"12/1/2016\", \"13/1/2016\", \"14/1/2016\", \"15/1/2016\", \"16/1/2016\", \"17/1/2016\", \"18/1/2016\", \"19/1/2016\", \"20/1/2016\", \"21/1/2016\", \"22/1/2016\", \"23/1/2016\", \"24/1/2016\", \"25/1/2016\", \"26/1/2016\", \"27/1/2016\", \"28/1/2016\", \"29/1/2016\", \"30/1/2016\", \"31/1/2016\", \"1/2/2016\", \"2/2/2016\", \"3/2/2016\", \"4/2/2016\", \"5/2/2016\", \"6/2/2016\", \"7/2/2016\", \"8/2/2016\", \"9/2/2016\", \"10/2/2016\", \"11/2/2016\", \"12/2/2016\", \"13/2/2016\", \"14/2/2016\", \"15/2/2016\", \"16/2/2016\", \"17/2/2016\", \"18/2/2016\", \"19/2/2016\", \"20/2/2016\", \"21/2/2016\", \"22/2/2016\", \"23/2/2016\", \"24/2/2016\", \"25/2/2016\", \"26/2/2016\", \"27/2/2016\", \"28/2/2016\", \"29/2/2016\", \"1/3/2016\", \"2/3/2016\", \"3/3/2016\", \"4/3/2016\", \"5/3/2016\", \"6/3/2016\", \"7/3/2016\", \"8/3/2016\", \"9/3/2016\", \"10/3/2016\", \"11/3/2016\", \"12/3/2016\", \"13/3/2016\", \"14/3/2016\", \"15/3/2016\", \"16/3/2016\", \"17/3/2016\", \"18/3/2016\", \"19/3/2016\", \"20/3/2016\", \"21/3/2016\", \"22/3/2016\", \"23/3/2016\", \"24/3/2016\", \"25/3/2016\", \"26/3/2016\", \"27/3/2016\", \"28/3/2016\", \"29/3/2016\", \"30/3/2016\", \"31/3/2016\", \"1/4/2016\", \"2/4/2016\", \"3/4/2016\", \"4/4/2016\", \"5/4/2016\", \"6/4/2016\", \"7/4/2016\", \"8/4/2016\", \"9/4/2016\", \"10/4/2016\", \"11/4/2016\", \"12/4/2016\", \"13/4/2016\", \"14/4/2016\", \"15/4/2016\", \"16/4/2016\", \"17/4/2016\", \"18/4/2016\", \"19/4/2016\", \"20/4/2016\", \"21/4/2016\", \"22/4/2016\", \"23/4/2016\", \"24/4/2016\", \"25/4/2016\", \"26/4/2016\", \"27/4/2016\", \"28/4/2016\", \"29/4/2016\", \"30/4/2016\", \"1/5/2016\", \"2/5/2016\", \"3/5/2016\", \"4/5/2016\", \"5/5/2016\", \"6/5/2016\", \"7/5/2016\", \"8/5/2016\", \"9/5/2016\", \"10/5/2016\", \"11/5/2016\", \"12/5/2016\", \"13/5/2016\", \"14/5/2016\", \"15/5/2016\", \"16/5/2016\", \"17/5/2016\", \"18/5/2016\", \"19/5/2016\", \"20/5/2016\", \"21/5/2016\", \"22/5/2016\", \"23/5/2016\", \"24/5/2016\", \"25/5/2016\", \"26/5/2016\", \"27/5/2016\", \"28/5/2016\", \"29/5/2016\", \"30/5/2016\", \"31/5/2016\", \"1/6/2016\", \"2/6/2016\", \"3/6/2016\", \"4/6/2016\", \"5/6/2016\", \"6/6/2016\", \"7/6/2016\", \"8/6/2016\", \"9/6/2016\", \"10/6/2016\", \"11/6/2016\", \"12/6/2016\", \"13/6/2016\", \"14/6/2016\", \"15/6/2016\", \"16/6/2016\", \"17/6/2016\", \"18/6/2016\", \"19/6/2016\", \"20/6/2016\", \"21/6/2016\", \"28/6/2016\", \"29/6/2016\", \"30/6/2016\", \"1/7/2016\", \"2/7/2016\", \"3/7/2016\", \"4/7/2016\", \"5/7/2016\", \"6/7/2016\", \"7/7/2016\", \"8/7/2016\", \"9/7/2016\", \"10/7/2016\", \"11/7/2016\", \"12/7/2016\", \"13/7/2016\", \"14/7/2016\", \"15/7/2016\", \"16/7/2016\", \"17/7/2016\", \"18/7/2016\", \"19/7/2016\", \"20/7/2016\", \"21/7/2016\", \"22/7/2016\", \"23/7/2016\", \"24/7/2016\", \"25/7/2016\", \"26/7/2016\", \"27/7/2016\", \"28/7/2016\", \"29/7/2016\", \"30/7/2016\", \"31/7/2016\", \"1/8/2016\", \"2/8/2016\", \"3/8/2016\", \"4/8/2016\", \"5/8/2016\", \"6/8/2016\", \"7/8/2016\", \"8/8/2016\", \"9/8/2016\", \"10/8/2016\", \"11/8/2016\", \"12/8/2016\", \"13/8/2016\", \"14/8/2016\", \"15/8/2016\", \"16/8/2016\", \"17/8/2016\", \"18/8/2016\", \"19/8/2016\", \"20/8/2016\", \"21/8/2016\", \"22/8/2016\", \"23/8/2016\", \"24/8/2016\", \"25/8/2016\", \"26/8/2016\", \"27/8/2016\", \"28/8/2016\", \"29/8/2016\", \"30/8/2016\", \"31/8/2016\", \"1/9/2016\", \"2/9/2016\", \"3/9/2016\", \"4/9/2016\", \"5/9/2016\", \"6/9/2016\", \"7/9/2016\", \"8/9/2016\", \"9/9/2016\", \"10/9/2016\", \"11/9/2016\", \"12/9/2016\", \"13/9/2016\", \"14/9/2016\", \"15/9/2016\", \"16/9/2016\", \"17/9/2016\", \"18/9/2016\", \"19/9/2016\", \"20/9/2016\", \"21/9/2016\", \"22/9/2016\", \"23/9/2016\", \"24/9/2016\", \"25/9/2016\", \"26/9/2016\", \"27/9/2016\", \"28/9/2016\", \"29/9/2016\", \"30/9/2016\", \"1/10/2016\", \"2/10/2016\", \"3/10/2016\", \"4/10/2016\", \"5/10/2016\", null, null, null, null, null, null, null, null, null, null, null, null, null, null, null, null, null, null, null, null, null, null, null, null, null, null, null, null, null, null, null, null, null, null, null, null, null, null, null, null, null, null, null, null, null, null, null, null, null, null, null, null, null, null, null, null, null, null, null, null, null, null, null, null, null, null, null, null, null, null, null, null, null, null, null, null, null, null, null, null, null, null, null, null, null, null, null, null, null, null, null, null, null, null, null, null, null, null, null, null, null, null, null, null, null, null, null, null, null, null, null, null, null, null, null, null, null, null, null, null, null, null, null, null, null, null, null, null, null, null, null, null, null, null, null, null, null, null, null, null, null, null, null, null, null, null, null, null, null, null, null, null, null, null, null, null, null, null], \"y\": [null, 0.0, 0.0, 0.0, 0.0, 0.0, 0.0, 0.0, 0.0, 0.0, 0.0, 0.0, 0.0, 0.0, 0.0, 0.0, 0.0, 0.0, 0.0, 0.0, 0.0, 0.0, 0.0, 0.0, 0.0, 0.0, 0.0, 0.0, 0.0, 0.0, 0.0, 1.0, 0.0, 0.0, 0.0, 0.0, 0.0, 0.0, 0.0, 0.0, 0.0, 0.0, 0.0, 0.0, 0.0, 0.0, 0.0, 0.0, 0.0, 0.0, 0.0, 0.0, 0.0, 0.0, 0.0, 0.0, 0.0, 0.0, 0.0, 0.0, 0.0, 0.0, 1.0, 0.0, 0.0, 0.0, 0.0, 0.0, 0.0, 0.0, 0.0, 0.0, 0.0, 0.0, 0.0, 0.0, 0.0, 0.0, 0.0, 0.0, 0.0, 0.0, 0.0, 0.0, 0.0, 0.0, 0.0, 0.0, 0.0, 0.0, 0.0, 0.0, 0.0, 0.0, 0.0, 0.0, 0.0, 0.0, 0.0, 0.0, 0.0, 0.0, 0.0, 0.0, 0.0, 0.0, 0.0, 0.0, 0.0, 0.0, 0.0, 0.0, 0.0, 0.0, 0.0, 0.0, 0.0, 0.0, 0.0, 0.0, 0.0, 0.0, 0.0, 0.0, 0.0, 0.0, 0.0, 0.0, 0.0, 0.0, 0.0, 0.0, 0.0, 0.0, 0.0, 0.0, 0.0, 0.0, 0.0, 0.0, 1.0, 0.0, 0.0, 0.0, 0.0, 0.0, 0.0, 0.0, 0.0, 0.0, 0.0, 0.0, 0.0, 0.0, 0.0, 0.0, 0.0, 0.0, 0.0, 0.0, 0.0, 0.0, 0.0, 0.0, 0.0, 0.0, 0.0, 0.0, 0.0, 0.0, 0.0, 0.0, 0.0, 0.0, 0.0, 0.0, 0.0, 0.0, 0.0, 0.0, 0.0, 0.0, 0.0, 0.0, 0.0, 0.0, 0.0, 0.0, 0.0, 0.0, 0.0, 0.0, 0.0, 0.0, 0.0, 0.0, 0.0, 0.0, 0.0, 1.0, 0.0, 0.0, 0.0, 0.0, 0.0, 0.0, 0.0, 0.0, 0.0, 0.0, 0.0, 0.0, 0.0, 0.0, 0.0, 0.0, 0.0, 0.0, 0.0, 0.0, 0.0, 0.0, 0.0, 0.0, 0.0, 0.0, 0.0, 0.0, 0.0, 0.0, 1.0, 0.0, 0.0, 0.0, 0.0, 0.0, 0.0, 0.0, 0.0, 0.0, 0.0, 0.0, 0.0, 0.0, 0.0, 1.0, 0.0, 0.0, 0.0, 0.0, 0.0, 0.0, 0.0, 0.0, 0.0, 0.0, 0.0, 0.0, 0.0, 0.0, 0.0, 0.0, 0.0, 0.0, 0.0, 0.0, 1.0, 0.0, 0.0, 0.0, 0.0, 0.0, 0.0, 1.0, 0.0, 1.0, 0.0, 0.0, 0.0, 0.0, 0.0, 0.0, 0.0, 0.0, 0.0, 1.0, 0.0, 0.0, 0.0, 0.0, 0.0, 0.0, 0.0, 0.0, 0.0, 0.0, 0.0, 0.0, 0.0, 0.0, 0.0, 1.0, 0.0, 1.0, 0.0, 0.0, 0.0, 0.0, 0.0, 0.0, 0.0, 0.0, 0.0, 0.0, 0.0, 0.0, 0.0, 0.0, 0.0, 0.0, 0.0, 0.0, 0.0, 0.0, 0.0, 0.0, 0.0, 0.0, 0.0, 0.0, 0.0, 0.0, 0.0, 0.0, 0.0, 1.0, 0.0, 0.0, 0.0, 0.0, 0.0, 0.0, 0.0, 1.0, 0.0, 0.0, 0.0, 0.0, 0.0, 0.0, 0.0, 0.0, 0.0, 0.0, 0.0, 0.0, 0.0, 0.0, 0.0, 0.0, 0.0, 1.0, 0.0, 0.0, 0.0, 0.0, 0.0, 0.0, 0.0, 0.0, 0.0, 0.0, 0.0, 0.0, 0.0, 0.0, 0.0, 0.0, 0.0, 0.0, 0.0, 0.0, 0.0, 0.0, 0.0, 0.0, 0.0, 1.0, 1.0, 0.0, 0.0, 0.0, 0.0, 1.0, 0.0, 1.0, 1.0, 0.0, 0.0, 0.0, 0.0, 0.0, 0.0, 0.0, 0.0, 0.0, 0.0, 0.0, 0.0, 0.0, 0.0, 0.0, 0.0, 0.0, 0.0, 0.0, 1.0, 0.0, 0.0, 0.0, 0.0, 0.0, 0.0, 0.0, 0.0, 0.0, 0.0, 0.0, 0.0, 1.0, 0.0, 0.0, 0.0, 0.0, 0.0, 0.0, 0.0, 0.0, 0.0, 0.0, 0.0, 0.0, 0.0, 0.0, 0.0, 0.0, 0.0, 0.0, 0.0, 0.0, 0.0, 0.0, 0.0, 0.0, 0.0, 0.0, 0.0, 0.0, 0.0, 0.0, 0.0, 0.0, 0.0, 0.0, 1.0, 0.0, 0.0, 0.0, 0.0, 0.0, 0.0, 0.0, 0.0, 0.0, 0.0, 0.0, 0.0, 0.0, 0.0, 0.0, 0.0, 0.0, 0.0, 0.0, 0.0, 0.0, 0.0, 0.0, 0.0, 0.0, 0.0, 0.0, 0.0, 1.0, 0.0, 0.0, 0.0, 0.0, 0.0, 0.0, 0.0, 0.0, 0.0, 0.0, 0.0, 0.0, 0.0, 0.0, 1.0, 0.0, 0.0, 0.0, 0.0, 0.0, null, null, null, null, null, null, null, null, null, null, null, null, null, null, null, null, null, null, null, null, null, null, null, null, null, null, null, null, null, null, null, null, null, null, null, null, null, null, null, null, null, null, null, null, null, null, null, null, null, null, null, null, null, null, null, null, null, null, null, null, null, null, null, null, null, null, null, null, null, null, null, null, null, null, null, null, null, null, null, null, null, null, null, null, null, null, null, null, null, null, null, null, null, null, null, null, null, null, null, null, null, null, null, null, null, null, null, null, null, null, null, null, null, null, null, null, null, null, null, null, null, null, null, null, null, null, null, null, null, null, null, null, null, null, null, null, null, null, null, null, null, null, null, null, null, null, null, null, null, null, null, null, null, null, null, null, null, null]}],\n",
       "                        {\"template\": {\"data\": {\"bar\": [{\"error_x\": {\"color\": \"#2a3f5f\"}, \"error_y\": {\"color\": \"#2a3f5f\"}, \"marker\": {\"line\": {\"color\": \"#E5ECF6\", \"width\": 0.5}}, \"type\": \"bar\"}], \"barpolar\": [{\"marker\": {\"line\": {\"color\": \"#E5ECF6\", \"width\": 0.5}}, \"type\": \"barpolar\"}], \"carpet\": [{\"aaxis\": {\"endlinecolor\": \"#2a3f5f\", \"gridcolor\": \"white\", \"linecolor\": \"white\", \"minorgridcolor\": \"white\", \"startlinecolor\": \"#2a3f5f\"}, \"baxis\": {\"endlinecolor\": \"#2a3f5f\", \"gridcolor\": \"white\", \"linecolor\": \"white\", \"minorgridcolor\": \"white\", \"startlinecolor\": \"#2a3f5f\"}, \"type\": \"carpet\"}], \"choropleth\": [{\"colorbar\": {\"outlinewidth\": 0, \"ticks\": \"\"}, \"type\": \"choropleth\"}], \"contour\": [{\"colorbar\": {\"outlinewidth\": 0, \"ticks\": \"\"}, \"colorscale\": [[0.0, \"#0d0887\"], [0.1111111111111111, \"#46039f\"], [0.2222222222222222, \"#7201a8\"], [0.3333333333333333, \"#9c179e\"], [0.4444444444444444, \"#bd3786\"], [0.5555555555555556, \"#d8576b\"], [0.6666666666666666, \"#ed7953\"], [0.7777777777777778, \"#fb9f3a\"], [0.8888888888888888, \"#fdca26\"], [1.0, \"#f0f921\"]], \"type\": \"contour\"}], \"contourcarpet\": [{\"colorbar\": {\"outlinewidth\": 0, \"ticks\": \"\"}, \"type\": \"contourcarpet\"}], \"heatmap\": [{\"colorbar\": {\"outlinewidth\": 0, \"ticks\": \"\"}, \"colorscale\": [[0.0, \"#0d0887\"], [0.1111111111111111, \"#46039f\"], [0.2222222222222222, \"#7201a8\"], [0.3333333333333333, \"#9c179e\"], [0.4444444444444444, \"#bd3786\"], [0.5555555555555556, \"#d8576b\"], [0.6666666666666666, \"#ed7953\"], [0.7777777777777778, \"#fb9f3a\"], [0.8888888888888888, \"#fdca26\"], [1.0, \"#f0f921\"]], \"type\": \"heatmap\"}], \"heatmapgl\": [{\"colorbar\": {\"outlinewidth\": 0, \"ticks\": \"\"}, \"colorscale\": [[0.0, \"#0d0887\"], [0.1111111111111111, \"#46039f\"], [0.2222222222222222, \"#7201a8\"], [0.3333333333333333, \"#9c179e\"], [0.4444444444444444, \"#bd3786\"], [0.5555555555555556, \"#d8576b\"], [0.6666666666666666, \"#ed7953\"], [0.7777777777777778, \"#fb9f3a\"], [0.8888888888888888, \"#fdca26\"], [1.0, \"#f0f921\"]], \"type\": \"heatmapgl\"}], \"histogram\": [{\"marker\": {\"colorbar\": {\"outlinewidth\": 0, \"ticks\": \"\"}}, \"type\": \"histogram\"}], \"histogram2d\": [{\"colorbar\": {\"outlinewidth\": 0, \"ticks\": \"\"}, \"colorscale\": [[0.0, \"#0d0887\"], [0.1111111111111111, \"#46039f\"], [0.2222222222222222, \"#7201a8\"], [0.3333333333333333, \"#9c179e\"], [0.4444444444444444, \"#bd3786\"], [0.5555555555555556, \"#d8576b\"], [0.6666666666666666, \"#ed7953\"], [0.7777777777777778, \"#fb9f3a\"], [0.8888888888888888, \"#fdca26\"], [1.0, \"#f0f921\"]], \"type\": \"histogram2d\"}], \"histogram2dcontour\": [{\"colorbar\": {\"outlinewidth\": 0, \"ticks\": \"\"}, \"colorscale\": [[0.0, \"#0d0887\"], [0.1111111111111111, \"#46039f\"], [0.2222222222222222, \"#7201a8\"], [0.3333333333333333, \"#9c179e\"], [0.4444444444444444, \"#bd3786\"], [0.5555555555555556, \"#d8576b\"], [0.6666666666666666, \"#ed7953\"], [0.7777777777777778, \"#fb9f3a\"], [0.8888888888888888, \"#fdca26\"], [1.0, \"#f0f921\"]], \"type\": \"histogram2dcontour\"}], \"mesh3d\": [{\"colorbar\": {\"outlinewidth\": 0, \"ticks\": \"\"}, \"type\": \"mesh3d\"}], \"parcoords\": [{\"line\": {\"colorbar\": {\"outlinewidth\": 0, \"ticks\": \"\"}}, \"type\": \"parcoords\"}], \"pie\": [{\"automargin\": true, \"type\": \"pie\"}], \"scatter\": [{\"marker\": {\"colorbar\": {\"outlinewidth\": 0, \"ticks\": \"\"}}, \"type\": \"scatter\"}], \"scatter3d\": [{\"line\": {\"colorbar\": {\"outlinewidth\": 0, \"ticks\": \"\"}}, \"marker\": {\"colorbar\": {\"outlinewidth\": 0, \"ticks\": \"\"}}, \"type\": \"scatter3d\"}], \"scattercarpet\": [{\"marker\": {\"colorbar\": {\"outlinewidth\": 0, \"ticks\": \"\"}}, \"type\": \"scattercarpet\"}], \"scattergeo\": [{\"marker\": {\"colorbar\": {\"outlinewidth\": 0, \"ticks\": \"\"}}, \"type\": \"scattergeo\"}], \"scattergl\": [{\"marker\": {\"colorbar\": {\"outlinewidth\": 0, \"ticks\": \"\"}}, \"type\": \"scattergl\"}], \"scattermapbox\": [{\"marker\": {\"colorbar\": {\"outlinewidth\": 0, \"ticks\": \"\"}}, \"type\": \"scattermapbox\"}], \"scatterpolar\": [{\"marker\": {\"colorbar\": {\"outlinewidth\": 0, \"ticks\": \"\"}}, \"type\": \"scatterpolar\"}], \"scatterpolargl\": [{\"marker\": {\"colorbar\": {\"outlinewidth\": 0, \"ticks\": \"\"}}, \"type\": \"scatterpolargl\"}], \"scatterternary\": [{\"marker\": {\"colorbar\": {\"outlinewidth\": 0, \"ticks\": \"\"}}, \"type\": \"scatterternary\"}], \"surface\": [{\"colorbar\": {\"outlinewidth\": 0, \"ticks\": \"\"}, \"colorscale\": [[0.0, \"#0d0887\"], [0.1111111111111111, \"#46039f\"], [0.2222222222222222, \"#7201a8\"], [0.3333333333333333, \"#9c179e\"], [0.4444444444444444, \"#bd3786\"], [0.5555555555555556, \"#d8576b\"], [0.6666666666666666, \"#ed7953\"], [0.7777777777777778, \"#fb9f3a\"], [0.8888888888888888, \"#fdca26\"], [1.0, \"#f0f921\"]], \"type\": \"surface\"}], \"table\": [{\"cells\": {\"fill\": {\"color\": \"#EBF0F8\"}, \"line\": {\"color\": \"white\"}}, \"header\": {\"fill\": {\"color\": \"#C8D4E3\"}, \"line\": {\"color\": \"white\"}}, \"type\": \"table\"}]}, \"layout\": {\"annotationdefaults\": {\"arrowcolor\": \"#2a3f5f\", \"arrowhead\": 0, \"arrowwidth\": 1}, \"coloraxis\": {\"colorbar\": {\"outlinewidth\": 0, \"ticks\": \"\"}}, \"colorscale\": {\"diverging\": [[0, \"#8e0152\"], [0.1, \"#c51b7d\"], [0.2, \"#de77ae\"], [0.3, \"#f1b6da\"], [0.4, \"#fde0ef\"], [0.5, \"#f7f7f7\"], [0.6, \"#e6f5d0\"], [0.7, \"#b8e186\"], [0.8, \"#7fbc41\"], [0.9, \"#4d9221\"], [1, \"#276419\"]], \"sequential\": [[0.0, \"#0d0887\"], [0.1111111111111111, \"#46039f\"], [0.2222222222222222, \"#7201a8\"], [0.3333333333333333, \"#9c179e\"], [0.4444444444444444, \"#bd3786\"], [0.5555555555555556, \"#d8576b\"], [0.6666666666666666, \"#ed7953\"], [0.7777777777777778, \"#fb9f3a\"], [0.8888888888888888, \"#fdca26\"], [1.0, \"#f0f921\"]], \"sequentialminus\": [[0.0, \"#0d0887\"], [0.1111111111111111, \"#46039f\"], [0.2222222222222222, \"#7201a8\"], [0.3333333333333333, \"#9c179e\"], [0.4444444444444444, \"#bd3786\"], [0.5555555555555556, \"#d8576b\"], [0.6666666666666666, \"#ed7953\"], [0.7777777777777778, \"#fb9f3a\"], [0.8888888888888888, \"#fdca26\"], [1.0, \"#f0f921\"]]}, \"colorway\": [\"#636efa\", \"#EF553B\", \"#00cc96\", \"#ab63fa\", \"#FFA15A\", \"#19d3f3\", \"#FF6692\", \"#B6E880\", \"#FF97FF\", \"#FECB52\"], \"font\": {\"color\": \"#2a3f5f\"}, \"geo\": {\"bgcolor\": \"white\", \"lakecolor\": \"white\", \"landcolor\": \"#E5ECF6\", \"showlakes\": true, \"showland\": true, \"subunitcolor\": \"white\"}, \"hoverlabel\": {\"align\": \"left\"}, \"hovermode\": \"closest\", \"mapbox\": {\"style\": \"light\"}, \"paper_bgcolor\": \"white\", \"plot_bgcolor\": \"#E5ECF6\", \"polar\": {\"angularaxis\": {\"gridcolor\": \"white\", \"linecolor\": \"white\", \"ticks\": \"\"}, \"bgcolor\": \"#E5ECF6\", \"radialaxis\": {\"gridcolor\": \"white\", \"linecolor\": \"white\", \"ticks\": \"\"}}, \"scene\": {\"xaxis\": {\"backgroundcolor\": \"#E5ECF6\", \"gridcolor\": \"white\", \"gridwidth\": 2, \"linecolor\": \"white\", \"showbackground\": true, \"ticks\": \"\", \"zerolinecolor\": \"white\"}, \"yaxis\": {\"backgroundcolor\": \"#E5ECF6\", \"gridcolor\": \"white\", \"gridwidth\": 2, \"linecolor\": \"white\", \"showbackground\": true, \"ticks\": \"\", \"zerolinecolor\": \"white\"}, \"zaxis\": {\"backgroundcolor\": \"#E5ECF6\", \"gridcolor\": \"white\", \"gridwidth\": 2, \"linecolor\": \"white\", \"showbackground\": true, \"ticks\": \"\", \"zerolinecolor\": \"white\"}}, \"shapedefaults\": {\"line\": {\"color\": \"#2a3f5f\"}}, \"ternary\": {\"aaxis\": {\"gridcolor\": \"white\", \"linecolor\": \"white\", \"ticks\": \"\"}, \"baxis\": {\"gridcolor\": \"white\", \"linecolor\": \"white\", \"ticks\": \"\"}, \"bgcolor\": \"#E5ECF6\", \"caxis\": {\"gridcolor\": \"white\", \"linecolor\": \"white\", \"ticks\": \"\"}}, \"title\": {\"x\": 0.05}, \"xaxis\": {\"automargin\": true, \"gridcolor\": \"white\", \"linecolor\": \"white\", \"ticks\": \"\", \"title\": {\"standoff\": 15}, \"zerolinecolor\": \"white\", \"zerolinewidth\": 2}, \"yaxis\": {\"automargin\": true, \"gridcolor\": \"white\", \"linecolor\": \"white\", \"ticks\": \"\", \"title\": {\"standoff\": 15}, \"zerolinecolor\": \"white\", \"zerolinewidth\": 2}}}},\n",
       "                        {\"responsive\": true}\n",
       "                    ).then(function(){\n",
       "                            \n",
       "var gd = document.getElementById('a306f24e-5025-49c4-bb3d-7a0e51ba0b3e');\n",
       "var x = new MutationObserver(function (mutations, observer) {{\n",
       "        var display = window.getComputedStyle(gd).display;\n",
       "        if (!display || display === 'none') {{\n",
       "            console.log([gd, 'removed!']);\n",
       "            Plotly.purge(gd);\n",
       "            observer.disconnect();\n",
       "        }}\n",
       "}});\n",
       "\n",
       "// Listen for the removal of the full notebook cells\n",
       "var notebookContainer = gd.closest('#notebook-container');\n",
       "if (notebookContainer) {{\n",
       "    x.observe(notebookContainer, {childList: true});\n",
       "}}\n",
       "\n",
       "// Listen for the clearing of the current output cell\n",
       "var outputEl = gd.closest('.output');\n",
       "if (outputEl) {{\n",
       "    x.observe(outputEl, {childList: true});\n",
       "}}\n",
       "\n",
       "                        })\n",
       "                };\n",
       "                });\n",
       "            </script>\n",
       "        </div>"
      ]
     },
     "metadata": {},
     "output_type": "display_data"
    }
   ],
   "source": [
    "from datetime import datetime\n",
    "data = [go.Scatter(x=train.date, y=train['label'])]\n",
    "\n",
    "py.iplot(data, filename = 'time-series-simple')"
   ]
  },
  {
   "cell_type": "code",
   "execution_count": 12,
   "metadata": {
    "_uuid": "2b7ca8166fd5da434b0207039959c753959e5695"
   },
   "outputs": [],
   "source": [
    "train.fillna(0,inplace=True) #by using fillna we can replace nan with 0"
   ]
  },
  {
   "cell_type": "code",
   "execution_count": 13,
   "metadata": {
    "_uuid": "5c9e77c403bbd03e1ef6832ac30158085e153923"
   },
   "outputs": [
    {
     "name": "stdout",
     "output_type": "stream",
     "text": [
      "<class 'pandas.core.frame.DataFrame'>\n",
      "RangeIndex: 672 entries, 0 to 671\n",
      "Data columns (total 2 columns):\n",
      "date     672 non-null object\n",
      "label    672 non-null float64\n",
      "dtypes: float64(1), object(1)\n",
      "memory usage: 10.6+ KB\n"
     ]
    }
   ],
   "source": [
    "train.info()"
   ]
  },
  {
   "cell_type": "code",
   "execution_count": 14,
   "metadata": {
    "_uuid": "36203de808fbf61116629044f6169acb26ddd4ee"
   },
   "outputs": [],
   "source": [
    "X=train.drop('label',axis=1)\n",
    "y=train.label"
   ]
  },
  {
   "cell_type": "code",
   "execution_count": 15,
   "metadata": {
    "_uuid": "8b96b03f326feb5394506f6c02f0845497c39eb7"
   },
   "outputs": [
    {
     "data": {
      "text/plain": [
       "(672, 1)"
      ]
     },
     "execution_count": 15,
     "metadata": {},
     "output_type": "execute_result"
    }
   ],
   "source": [
    "X.shape"
   ]
  },
  {
   "cell_type": "code",
   "execution_count": 52,
   "metadata": {
    "_uuid": "6dff99209cd74ce5fc3596af401fb7b59b473ac4"
   },
   "outputs": [
    {
     "data": {
      "text/plain": [
       "(672,)"
      ]
     },
     "execution_count": 52,
     "metadata": {},
     "output_type": "execute_result"
    }
   ],
   "source": [
    "y.shape"
   ]
  },
  {
   "cell_type": "markdown",
   "metadata": {},
   "source": []
  },
  {
   "cell_type": "code",
   "execution_count": 17,
   "metadata": {
    "_uuid": "5fe054d496e4008f9e1f4c6cd7689f36d64d8fdd"
   },
   "outputs": [
    {
     "data": {
      "text/plain": [
       "0    735662\n",
       "1    735693\n",
       "2    735723\n",
       "3    735754\n",
       "4    735784\n",
       "Name: date, dtype: int64"
      ]
     },
     "execution_count": 17,
     "metadata": {},
     "output_type": "execute_result"
    }
   ],
   "source": [
    "import datetime as dt\n",
    "X['date'] = pd.to_datetime(X['date'])\n",
    "X['date']=X['date'].map(dt.datetime.toordinal)\n",
    "\n",
    "X['date'].head()"
   ]
  },
  {
   "cell_type": "markdown",
   "metadata": {
    "_uuid": "413857bedfcdf4eb8acfd554627f4431211612e0"
   },
   "source": [
    "** Using train test split function  **"
   ]
  },
  {
   "cell_type": "code",
   "execution_count": 73,
   "metadata": {
    "_uuid": "2abf10db69facc47a1a30f5afe6c302267ccaecf"
   },
   "outputs": [],
   "source": [
    "from sklearn.model_selection import train_test_split\n",
    "X_train,X_test,y_train,y_test=train_test_split(X,y,random_state=60,test_size=0.20) "
   ]
  },
  {
   "cell_type": "code",
   "execution_count": 74,
   "metadata": {
    "_uuid": "1f78a963bf64f0a76242b112d870fe94fd3b9b70"
   },
   "outputs": [
    {
     "data": {
      "text/plain": [
       "DecisionTreeClassifier(class_weight=None, criterion='gini', max_depth=None,\n",
       "            max_features=None, max_leaf_nodes=None,\n",
       "            min_impurity_decrease=0.0, min_impurity_split=None,\n",
       "            min_samples_leaf=1, min_samples_split=2,\n",
       "            min_weight_fraction_leaf=0.0, presort=False, random_state=None,\n",
       "            splitter='best')"
      ]
     },
     "execution_count": 74,
     "metadata": {},
     "output_type": "execute_result"
    }
   ],
   "source": [
    "from sklearn.tree import DecisionTreeClassifier\n",
    "decision=DecisionTreeClassifier()\n",
    "decision.fit(X_train,y_train)"
   ]
  },
  {
   "cell_type": "code",
   "execution_count": 75,
   "metadata": {
    "_uuid": "605d898ba5f16efe8b926a74fbd67b9b4b5b0c81"
   },
   "outputs": [],
   "source": [
    "y_predict=decision.predict(X_test)\n",
    "\n"
   ]
  },
  {
   "cell_type": "raw",
   "metadata": {},
   "source": []
  },
  {
   "cell_type": "code",
   "execution_count": 76,
   "metadata": {
    "_uuid": "d6678d24fcea1856e9750ae12ff428aa51d164a8"
   },
   "outputs": [
    {
     "data": {
      "text/plain": [
       "0.5807692307692307"
      ]
     },
     "execution_count": 76,
     "metadata": {},
     "output_type": "execute_result"
    }
   ],
   "source": [
    "from sklearn.metrics import roc_auc_score\n",
    "roc_auc = roc_auc_score(y_test, y_predict)\n",
    "roc_auc"
   ]
  },
  {
   "cell_type": "markdown",
   "metadata": {
    "_uuid": "84e245160167ea2460f1e45a7c9ab55ea7d2bf8d"
   },
   "source": [
    "Check Out the confusion matrix to find out the true positive and true negative "
   ]
  },
  {
   "cell_type": "code",
   "execution_count": 77,
   "metadata": {
    "_uuid": "ac9622b85ff92c33edc0076e144cb6f8ec34e86c"
   },
   "outputs": [
    {
     "data": {
      "text/plain": [
       "array([[125,   5],\n",
       "       [  4,   1]], dtype=int64)"
      ]
     },
     "execution_count": 77,
     "metadata": {},
     "output_type": "execute_result"
    }
   ],
   "source": [
    "from sklearn.metrics import confusion_matrix\n",
    "cm = confusion_matrix(y_test, y_predict)\n",
    "cm"
   ]
  },
  {
   "cell_type": "code",
   "execution_count": 78,
   "metadata": {
    "_uuid": "95f7f27c5e872589b1ae6a0421f8f9612b2059ff"
   },
   "outputs": [
    {
     "data": {
      "image/png": "[encoded data removed]",
      "text/plain": [
       "<Figure size 432x288 with 1 Axes>"
      ]
     },
     "metadata": {
      "needs_background": "light"
     },
     "output_type": "display_data"
    }
   ],
   "source": [
    "from sklearn.metrics import roc_curve\n",
    "import matplotlib.pyplot as plt \n",
    "fpr, tpr, thresholds = roc_curve(y_test, decision.predict_proba(X_test)[:,1])\n",
    "plt.figure()\n",
    "plt.plot(fpr, tpr, color='darkorange', label='Decision Tree (area = %0.2f)' % roc_auc)\n",
    "plt.plot([0, 1], [0, 1], color='navy', lw=2, linestyle='--')\n",
    "plt.xlim([0.0, 1.0])\n",
    "plt.ylim([0.0, 1.05])\n",
    "plt.xlabel('False Positive ')\n",
    "plt.ylabel('True Positive ')\n",
    "plt.title('Receiver Operating Characteristic')\n",
    "plt.legend(loc=\"lower right\")\n",
    "plt.show()"
   ]
  },
  {
   "cell_type": "code",
   "execution_count": 79,
   "metadata": {
    "_uuid": "95eb8ceb7a46d0f587dc761f1ff447b236675919"
   },
   "outputs": [
    {
     "data": {
      "text/plain": [
       "RandomForestClassifier(bootstrap=True, class_weight=None, criterion='gini',\n",
       "            max_depth=None, max_features='auto', max_leaf_nodes=None,\n",
       "            min_impurity_decrease=0.0, min_impurity_split=None,\n",
       "            min_samples_leaf=1, min_samples_split=2,\n",
       "            min_weight_fraction_leaf=0.0, n_estimators=10, n_jobs=1,\n",
       "            oob_score=False, random_state=None, verbose=0,\n",
       "            warm_start=False)"
      ]
     },
     "execution_count": 79,
     "metadata": {},
     "output_type": "execute_result"
    }
   ],
   "source": [
    "from sklearn.ensemble import RandomForestClassifier\n",
    "random=RandomForestClassifier()\n",
    "random.fit(X_train,y_train)\n"
   ]
  },
  {
   "cell_type": "code",
   "execution_count": 84,
   "metadata": {
    "_uuid": "50e5be39fda8b4d284614e35d3f9dc51f5ac3cda"
   },
   "outputs": [],
   "source": [
    "prediction=random.predict(X_test)\n"
   ]
  },
  {
   "cell_type": "code",
   "execution_count": 85,
   "metadata": {
    "_uuid": "1355fc1d679923ff731a0eaaf739a2b4402fe571"
   },
   "outputs": [
    {
     "data": {
      "text/plain": [
       "0.48846153846153845"
      ]
     },
     "execution_count": 85,
     "metadata": {},
     "output_type": "execute_result"
    }
   ],
   "source": [
    "from sklearn.metrics import roc_auc_score\n",
    "roc_auc = roc_auc_score(y_test, prediction)\n",
    "roc_auc"
   ]
  },
  {
   "cell_type": "code",
   "execution_count": 82,
   "metadata": {
    "_uuid": "0fe1c5db444a9642a1732f6f9062f3b61258eb01"
   },
   "outputs": [
    {
     "data": {
      "text/plain": [
       "array([[127,   3],\n",
       "       [  5,   0]], dtype=int64)"
      ]
     },
     "execution_count": 82,
     "metadata": {},
     "output_type": "execute_result"
    }
   ],
   "source": [
    "from sklearn.metrics import confusion_matrix\n",
    "cm = confusion_matrix(y_test, prediction)\n",
    "cm"
   ]
  },
  {
   "cell_type": "code",
   "execution_count": 83,
   "metadata": {
    "_uuid": "e5c7f3d861a849f277069ce90fa5465cab512610"
   },
   "outputs": [
    {
     "data": {
      "image/png": "[encoded data removed]",
      "text/plain": [
       "<Figure size 432x288 with 1 Axes>"
      ]
     },
     "metadata": {
      "needs_background": "light"
     },
     "output_type": "display_data"
    }
   ],
   "source": [
    "from sklearn.metrics import roc_curve\n",
    "import matplotlib.pyplot as plt \n",
    "fpr, tpr, thresholds = roc_curve(y_test, random.predict_proba(X_test)[:,1])\n",
    "plt.figure()\n",
    "plt.plot(fpr, tpr, color='darkorange', label='random forest (area = %0.2f)' % roc_auc)\n",
    "plt.plot([0, 1], [0, 1], color='navy', lw=2, linestyle='--')\n",
    "plt.xlim([0.0, 1.0])\n",
    "plt.ylim([0.0, 1.05])\n",
    "plt.xlabel('False Positive ')\n",
    "plt.ylabel('True Positive ')\n",
    "plt.title('Receiver Operating Characteristic')\n",
    "plt.legend(loc=\"lower right\")\n",
    "plt.show()"
   ]
  },
  {
   "cell_type": "code",
   "execution_count": null,
   "metadata": {
    "_uuid": "6285a6eaf17d54b896f17472c3376ba3ae4af547"
   },
   "outputs": [],
   "source": []
  },
  {
   "cell_type": "code",
   "execution_count": null,
   "metadata": {},
   "outputs": [],
   "source": []
  },
  {
   "cell_type": "code",
   "execution_count": null,
   "metadata": {},
   "outputs": [],
   "source": []
  },
  {
   "cell_type": "code",
   "execution_count": null,
   "metadata": {},
   "outputs": [],
   "source": []
  },
  {
   "cell_type": "code",
   "execution_count": null,
   "metadata": {},
   "outputs": [],
   "source": []
  }
 ],
 "metadata": {
  "kernelspec": {
   "display_name": "Python 3",
   "language": "python",
   "name": "python3"
  },
  "language_info": {
   "codemirror_mode": {
    "name": "ipython",
    "version": 3
   },
   "file_extension": ".py",
   "mimetype": "text/x-python",
   "name": "python",
   "nbconvert_exporter": "python",
   "pygments_lexer": "ipython3",
   "version": "3.7.0"
  }
 },
 "nbformat": 4,
 "nbformat_minor": 1
}
